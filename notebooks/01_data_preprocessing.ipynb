{
 "cells": [
  {
   "cell_type": "code",
   "execution_count": null,
   "id": "2e6eb070",
   "metadata": {
    "vscode": {
     "languageId": "plaintext"
    }
   },
   "outputs": [],
   "source": [
    "from src.data_loader import fetch_stock_data\n",
    "from src.preprocessing import preprocess_data\n",
    "from src.visualization import plot_stock\n",
    "\n",
    "df = fetch_stock_data(\"AAPL\", \"2018-01-01\", \"2025-01-01\")\n",
    "clean = preprocess_data(df)\n",
    "plot_stock(clean, \"AAPL Stock Prices\")\n"
   ]
  }
 ],
 "metadata": {
  "language_info": {
   "name": "python"
  }
 },
 "nbformat": 4,
 "nbformat_minor": 5
}
