{
 "cells": [
  {
   "cell_type": "markdown",
   "id": "396e4aa0",
   "metadata": {},
   "source": [
    "# 📊 Stock Market Forecasting - Model Comparison\n",
    "\n",
    "This notebook compares **ARIMA, SARIMA, Prophet, and LSTM** for stock price forecasting.\n",
    "\n",
    "---\n",
    "\n",
    "## ✅ Steps\n",
    "1. Load cleaned stock data\n",
    "2. Train/test split\n",
    "3. Run models (ARIMA, SARIMA, Prophet, LSTM)\n",
    "4. Evaluate with MAE, RMSE, MAPE\n",
    "5. Visualize comparisons\n"
   ]
  },
  {
   "cell_type": "code",
   "execution_count": null,
   "id": "d405fffa",
   "metadata": {
    "vscode": {
     "languageId": "plaintext"
    }
   },
   "outputs": [],
   "source": [
    "# 📦 Imports\n",
    "import pandas as pd\n",
    "\n",
    "# Import from src/\n",
    "from src.models import compare_models_on_series\n",
    "from src.evaluation import compare_models\n",
    "from src.visualization import plot_model_comparisons\n",
    "# 📂 Load dataset (already cleaned by preprocessing.py)\n",
    "df = pd.read_csv(\"../data/cleaned_data.csv\", parse_dates=[\"Date\"], index_col=\"Date\")\n",
    "df.head()\n",
    "# ⚡ Run model comparison (ARIMA, SARIMA, Prophet, LSTM)\n",
    "metrics, forecasts = compare_models_on_series(\n",
    "    df,\n",
    "    test_size=0.15,          # 15% test split\n",
    "    arima_order=(5, 1, 0),   # ARIMA hyperparameters\n",
    "    sarima_order=(1, 1, 1),  # SARIMA ARIMA(p,d,q)\n",
    "    sarima_seasonal=(1, 1, 1, 5),  # (P,D,Q,s)\n",
    "    lstm_lookback=60,\n",
    "    lstm_epochs=15           # reduce epochs for speed\n",
    ")\n",
    "# 📊 Show evaluation metrics\n",
    "pd.DataFrame(metrics).T\n",
    "# 📈 Visualize forecasts vs actual\n",
    "test = df[int(len(df)*0.85):][\"Close\"]   # last 15% as test set\n",
    "plot_model_comparisons(test, forecasts)\n"
   ]
  },
  {
   "cell_type": "markdown",
   "id": "7a04a828",
   "metadata": {},
   "source": [
    "# 🏆 Results\n",
    "\n",
    "- Compare RMSE, MAE, MAPE values\n",
    "- See which model captures stock price trends best\n",
    "- LSTM usually works better for long-term sequences, Prophet handles seasonality well\n"
   ]
  }
 ],
 "metadata": {
  "language_info": {
   "name": "python"
  }
 },
 "nbformat": 4,
 "nbformat_minor": 5
}
